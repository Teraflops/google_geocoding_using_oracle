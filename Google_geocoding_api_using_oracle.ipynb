{
 "cells": [
  {
   "cell_type": "markdown",
   "metadata": {},
   "source": [
    "# Using Google Geocoding API(webservice) from Oracle"
   ]
  },
  {
   "cell_type": "markdown",
   "metadata": {},
   "source": [
    "### To call any webservice, need to make http call which in oracle is done by utl_http.request package.\n",
    "\n",
    "#### Below are the steps to access Google Geocoding webservices from Oracle.\n"
   ]
  },
  {
   "cell_type": "markdown",
   "metadata": {},
   "source": [
    "\n",
    "###### 1. We've to create an ACL (Access Control List) in oracle first, below is the code for the same.\n"
   ]
  },
  {
   "cell_type": "code",
   "execution_count": null,
   "metadata": {
    "collapsed": true
   },
   "outputs": [],
   "source": [
    "\n",
    "begin\n",
    "\n",
    "-- Create the ACL first \n",
    "\n",
    "dbms_network_acl_admin.create_acl (\n",
    "    acl         => 'utl_http_map.xml', -- name of acl could be anything\n",
    "    description => 'HTTP Access',      -- Description\n",
    "    principal   => 'VIBHU',            -- principal will be the schema name you want to call the webservice from\n",
    "    is_grant    => TRUE,\n",
    "    privilege   => 'connect'           -- connect & resource privileges can be provided to the ACL\n",
    "  );\n",
    "  \n",
    " -- assign the host which you want to access throught the ACL\n",
    " \n",
    "  dbms_network_acl_admin.assign_acl (\n",
    "    acl        => 'utl_http_map.xml',          -- name of the acl will be the same as the above one\n",
    "    host       => '*maps.googleapis.com*',     -- host will be the base URL of the host \n",
    "    lower_port => 25,                          -- put the lower_port as 25 if you keep it null it will contact at default 80 \n",
    "    upper_port => NULL                         -- at this port oracle admin service is already to it may throw an error\n",
    "  );\n",
    "  \n",
    "  commit;\n",
    "end;\n"
   ]
  },
  {
   "cell_type": "markdown",
   "metadata": {},
   "source": [
    "##### 2. Have to create oracle wallet to keep the google certificates, for services without certificates you can directly access the URL without using                  wallet."
   ]
  },
  {
   "cell_type": "markdown",
   "metadata": {},
   "source": [
    "###### First go the Oracle installed BIN path and check ORAPKI.jar is present,\n",
    "       G:\\app\\Orauser\\product\\12.1.0\\dbhome_1\\BIN"
   ]
  },
  {
   "cell_type": "markdown",
   "metadata": {},
   "source": [
    "###### Create a directory e.g. wallet and then execute the below command to make that directory an oracle wallet\n",
    "       orapki wallet create -wallet G:\\app\\Orauser\\product\\12.1.0\\dbhome_1\\BIN\\wallet       \n",
    "       It will prompt for a passord 2 times this is where you set the wallet password set it and remember it."
   ]
  },
  {
   "cell_type": "code",
   "execution_count": 21,
   "metadata": {
    "collapsed": false
   },
   "outputs": [
    {
     "data": {
      "text/html": [
       "<img src =\"files/oracle_wallet_created.PNG\",width=500,height=200>"
      ],
      "text/plain": [
       "<IPython.core.display.HTML object>"
      ]
     },
     "metadata": {},
     "output_type": "display_data"
    }
   ],
   "source": [
    "%%html\n",
    "<img src =\"images/oracle_wallet_created.PNG\",width=500,height=200>"
   ]
  },
  {
   "cell_type": "markdown",
   "metadata": {},
   "source": [
    "##### Once the wallet is created add the certificates which you can download from [api.google.com](api.google.com) in .p7b format. Once you have            it paste it in the wallet directory. that's not it you have to now add(install) this certificate in oracle wallet as well. use the below command.                 Password will be what you set in just above\n",
    "     orapki wallet add -wallet G:\\app\\Orauser\\product\\12.1.0\\dbhome_1\\BIN\\wallet  -cert G:\\app\\Orauser\\product\\12.1.0\\dbhome_1\\BIN\\wallet\\google_maps.p7b -trusted_cert -pwd password -jsafe\n",
    "     \n",
    "##### Likewise add all the 3 certificates from google mentioned below."
   ]
  },
  {
   "cell_type": "code",
   "execution_count": 32,
   "metadata": {
    "collapsed": false
   },
   "outputs": [
    {
     "data": {
      "text/html": [
       "<img src =\"files/google_certs.PNG\",width=100,height=10>"
      ],
      "text/plain": [
       "<IPython.core.display.HTML object>"
      ]
     },
     "metadata": {},
     "output_type": "display_data"
    }
   ],
   "source": [
    "%%html\n",
    "<img src =\"images/google_certs.PNG\",width=100,height=10>"
   ]
  },
  {
   "cell_type": "markdown",
   "metadata": {},
   "source": [
    "##### You can list all the installed certificates by using below command\n",
    "      orapki wallet display -wallet . -pwd password  -jsafe\n",
    "##### Refer below screenshot to learn more(masked password for security)\n",
    "      \n",
    "Congrates if you don't get any error your oracle wallet has been created successfully with all the certificates installed in it."
   ]
  },
  {
   "cell_type": "code",
   "execution_count": 33,
   "metadata": {
    "collapsed": false
   },
   "outputs": [
    {
     "data": {
      "text/html": [
       "<img src =\"files/adding_p7b_cert.PNG\",width=100,height=10>"
      ],
      "text/plain": [
       "<IPython.core.display.HTML object>"
      ]
     },
     "metadata": {},
     "output_type": "display_data"
    }
   ],
   "source": [
    "%%html\n",
    "<img src =\"images/adding_p7b_cert.PNG\",width=100,height=10>"
   ]
  },
  {
   "cell_type": "markdown",
   "metadata": {},
   "source": [
    "##### Its time to check using the below query whether all these setup is working or not"
   ]
  },
  {
   "cell_type": "code",
   "execution_count": null,
   "metadata": {
    "collapsed": true
   },
   "outputs": [],
   "source": [
    "select\n",
    "utl_http.request\n",
    "      ( 'https://maps.googleapis.com/maps/api/geocode/json?address=' ||\n",
    "        utl_url.escape('1600 Amphitheatre Parkway, Mountain View, CA&key=<your_api_key_should_be_added_here>')\n",
    "        ,NULL,'file:G:\\app\\Orauser\\product\\12.1.0\\dbhome_1\\BIN\\wallet','urmila24') from dual;"
   ]
  },
  {
   "cell_type": "code",
   "execution_count": 35,
   "metadata": {
    "collapsed": false
   },
   "outputs": [
    {
     "data": {
      "text/html": [
       "<img src =\"files/query_result.PNG\",width=100,height=100>"
      ],
      "text/plain": [
       "<IPython.core.display.HTML object>"
      ]
     },
     "metadata": {},
     "output_type": "display_data"
    }
   ],
   "source": [
    "%%html\n",
    "<img src =\"images/query_result.PNG\",width=100,height=100>"
   ]
  },
  {
   "cell_type": "code",
   "execution_count": 36,
   "metadata": {
    "collapsed": false
   },
   "outputs": [
    {
     "data": {
      "text/html": [
       "<img src =\"files/query_result1.PNG\",width=100,height=100>"
      ],
      "text/plain": [
       "<IPython.core.display.HTML object>"
      ]
     },
     "metadata": {},
     "output_type": "display_data"
    }
   ],
   "source": [
    "%%html\n",
    "<img src =\"images/query_result1.PNG\",width=100,height=100>"
   ]
  },
  {
   "cell_type": "markdown",
   "metadata": {},
   "source": [
    "It will be similar if you execute the same URL from your browser"
   ]
  },
  {
   "cell_type": "code",
   "execution_count": 38,
   "metadata": {
    "collapsed": false
   },
   "outputs": [
    {
     "data": {
      "text/html": [
       "<img src =\"files/browser_result.PNG\",width=100,height=100>"
      ],
      "text/plain": [
       "<IPython.core.display.HTML object>"
      ]
     },
     "metadata": {},
     "output_type": "display_data"
    }
   ],
   "source": [
    "%%html\n",
    "<img src =\"images/browser_result.PNG\",width=100,height=100>"
   ]
  }
 ],
 "metadata": {
  "anaconda-cloud": {},
  "kernelspec": {
   "display_name": "Python [Root]",
   "language": "python",
   "name": "Python [Root]"
  },
  "language_info": {
   "codemirror_mode": {
    "name": "ipython",
    "version": 3
   },
   "file_extension": ".py",
   "mimetype": "text/x-python",
   "name": "python",
   "nbconvert_exporter": "python",
   "pygments_lexer": "ipython3",
   "version": "3.5.2"
  }
 },
 "nbformat": 4,
 "nbformat_minor": 0
}
